{
 "cells": [
  {
   "cell_type": "code",
   "execution_count": 1,
   "metadata": {},
   "outputs": [],
   "source": [
    "import numpy as np\n",
    "import re\n",
    "import os"
   ]
  },
  {
   "cell_type": "code",
   "execution_count": 2,
   "metadata": {},
   "outputs": [],
   "source": [
    "def L2_norm(v,h):\n",
    "    ret = 0.0;\n",
    "    for el in v:\n",
    "        ret = ret + el**2.0*h*h; #assume uniform grid and 2D domain\n",
    "    return((ret)**(1.0/2.0))\n",
    "\n",
    "def check_float(val):             \n",
    "    if re.match(r'^-?\\d+(?:\\.\\d+)?$',val) is None:\n",
    "        return False         \n",
    "    else:                     \n",
    "        return True\n",
    "\n",
    "def get_div_norms(filename, size):\n",
    "    l = [];\n",
    "    volume_elements = False;\n",
    "    with open(filename) as div_file:\n",
    "        for line in div_file:\n",
    "            if 'internalField' in line: #ugly cut of the internal fied (2D in cavity)\n",
    "                volume_elements = True;\n",
    "            elif ')' in line:\n",
    "                volume_elements = False;\n",
    "                \n",
    "            if check_float(line)&volume_elements:\n",
    "                val = float(line);\n",
    "                if int(val) - val != 0:\n",
    "                    l.append(val);\n",
    "\n",
    "    normC = np.max(np.abs(l));\n",
    "    normL2 = L2_norm(l,1.0/size);\n",
    "    return(size, normC, normL2)\n",
    "\n",
    "def change_mesh_file_name(file_name, n):    \n",
    "    with open(file_name) as mesh_file, open (file_name + '.new','w') as new_file:\n",
    "        for line in mesh_file:\n",
    "            if 'hex (0 1 2 3 4 5 6 7)' in line:\n",
    "                line = 'hex (0 1 2 3 4 5 6 7) (' + str(n) + ' ' + str(n) +' ' +'1) simpleGrading (1 1 1)\\n'\n",
    "            new_file.write(line)\n",
    "    \n",
    "    cmd = 'mv ' + file_name +'.new ' + file_name \n",
    "    os.system(cmd)"
   ]
  },
  {
   "cell_type": "code",
   "execution_count": 67,
   "metadata": {},
   "outputs": [],
   "source": [
    "N = [20, 40, 80]\n",
    "file_mesh = 'system/blockMeshDict'\n",
    "file_div = '5/div(U)'\n",
    "file_exec_all = './run_div_check.sh'\n",
    "file_res = 'div_res.txt'\n",
    "\n",
    "with open(file_res,'w') as res_file:\n",
    "    for n in N:\n",
    "        change_mesh_file_name(file_mesh, n)\n",
    "        os.system(file_exec_all)\n",
    "        res = get_div_norms(file_div, n)\n",
    "        res_file.write(str(res[0]) + ' ' + str(res[1]) + ' ' + str(res[2])+'\\n')\n"
   ]
  }
 ],
 "metadata": {
  "kernelspec": {
   "display_name": "Python 3",
   "language": "python",
   "name": "python3"
  },
  "language_info": {
   "codemirror_mode": {
    "name": "ipython",
    "version": 3
   },
   "file_extension": ".py",
   "mimetype": "text/x-python",
   "name": "python",
   "nbconvert_exporter": "python",
   "pygments_lexer": "ipython3",
   "version": "3.6.4"
  }
 },
 "nbformat": 4,
 "nbformat_minor": 2
}
